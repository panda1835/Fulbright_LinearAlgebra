{
 "cells": [
  {
   "cell_type": "code",
   "execution_count": 1,
   "metadata": {},
   "outputs": [],
   "source": [
    "import reduced_echelon\n",
    "import numpy as np"
   ]
  },
  {
   "cell_type": "markdown",
   "metadata": {},
   "source": [
    "# 1.2.5"
   ]
  },
  {
   "cell_type": "code",
   "execution_count": 14,
   "metadata": {},
   "outputs": [
    {
     "name": "stdout",
     "output_type": "stream",
     "text": [
      "The augmented matrix of the system is:\n",
      "[[ 1  1  2  8]\n",
      " [-1 -2  3  1]\n",
      " [ 3 -7  4 10]]\n",
      "Applying Gaussian elimination to A:\n",
      "[[ 1  1  2  8]\n",
      " [ 0  1 -5 -9]\n",
      " [ 0  0  1  2]]\n"
     ]
    }
   ],
   "source": [
    "# 1.2.5 Solve the linear system by Gaussian elimination\n",
    "\n",
    "print(\"The augmented matrix of the system is:\")\n",
    "A = np.array([\n",
    "    [1, 1, 2, 8],\n",
    "    [-1, -2, 3, 1],\n",
    "    [3, -7, 4, 10]\n",
    "])\n",
    "print(A)\n",
    "\n",
    "print(\"Applying Gaussian elimination to A:\") \n",
    "A = reduced_echelon.forward(A)\n",
    "print(A)"
   ]
  },
  {
   "cell_type": "markdown",
   "metadata": {},
   "source": [
    "The corresponding system of the row echelon form of A is  \n",
    "$\\Bigg\\{\\begin{align*}x_1 + x_2 + 2x_3 &= 8\\\\x_2 - 5x_3 &= -9\\\\x_3 &= 2\\\\\\end{align*}$\n",
    "\n",
    "$\\Rightarrow (x_1, x_2, x_3) = (3, 1, 2)$"
   ]
  },
  {
   "cell_type": "markdown",
   "metadata": {},
   "source": [
    "## 1.2.15"
   ]
  },
  {
   "cell_type": "code",
   "execution_count": 2,
   "metadata": {},
   "outputs": [
    {
     "name": "stdout",
     "output_type": "stream",
     "text": [
      "The augmented matrix of the system is:\n",
      "[[2 1 3 0]\n",
      " [1 2 0 0]\n",
      " [0 1 1 0]]\n",
      "The reduced row echelon form of the matrix is:\n",
      "[[1 0 0 0]\n",
      " [0 1 0 0]\n",
      " [0 0 1 0]]\n"
     ]
    }
   ],
   "source": [
    "print(\"The augmented matrix of the system is:\")\n",
    "A = np.array([\n",
    "    [2, 1, 3, 0],\n",
    "    [1, 2, 0, 0],\n",
    "    [0, 1, 1, 0]\n",
    "])\n",
    "print(A)\n",
    "\n",
    "print(\"The reduced row echelon form of the matrix is:\")\n",
    "print(reduced_echelon.backward(reduced_echelon.forward(A)))"
   ]
  },
  {
   "cell_type": "markdown",
   "metadata": {},
   "source": [
    "The corresponding system to the above augmented matrix is \n",
    "\n",
    "$\\Bigg\\{\\begin{align*}x_1 &= 0\\\\x_2 &= 0\\\\x_3 &= 0\\\\\\end{align*}$"
   ]
  },
  {
   "cell_type": "markdown",
   "metadata": {},
   "source": [
    "## 1.2.19"
   ]
  },
  {
   "cell_type": "code",
   "execution_count": 3,
   "metadata": {},
   "outputs": [
    {
     "name": "stdout",
     "output_type": "stream",
     "text": [
      "The augmented matrix of the system is:\n",
      "[[ 0  2  2  4  0]\n",
      " [ 1  0 -1 -3  0]\n",
      " [ 2  3  1  1  0]\n",
      " [-2  1  3 -2  0]]\n",
      "The reduced row echelon form of the matrix is:\n",
      "[[ 1  0 -1  0  0]\n",
      " [ 0  1  1  0  0]\n",
      " [ 0  0  0  1  0]\n",
      " [ 0  0  0  0  0]]\n"
     ]
    }
   ],
   "source": [
    "print(\"The augmented matrix of the system is:\")\n",
    "A = np.array([\n",
    "    [0, 2, 2, 4, 0],\n",
    "    [1, 0, -1, -3, 0],\n",
    "    [2, 3, 1, 1, 0],\n",
    "    [-2, 1, 3, -2, 0]\n",
    "])\n",
    "print(A)\n",
    "\n",
    "print(\"The reduced row echelon form of the matrix is:\")\n",
    "print(reduced_echelon.backward(reduced_echelon.forward(A)))"
   ]
  },
  {
   "cell_type": "markdown",
   "metadata": {},
   "source": [
    "The corresponding system of the above reduced echelon form matrix is\n",
    "\n",
    "$\\Bigg\\{\\begin{align*}w -    y &= 0 \\\\ x + y &= 0 \\\\ z &= 0 \\end{align*}$\n",
    "\n",
    "Since only $w,x,z$ has leading 1 then $y$ is the free variable. \n",
    "\n",
    "Set $y = t, t \\in \\mathbb{R}$. We have $(w,x,y,z) = (t, -t, t, 0)$"
   ]
  },
  {
   "cell_type": "markdown",
   "metadata": {},
   "source": [
    "## 1.2.31"
   ]
  },
  {
   "cell_type": "code",
   "execution_count": 7,
   "metadata": {},
   "outputs": [
    {
     "name": "stdout",
     "output_type": "stream",
     "text": [
      "A =\n",
      "[[1 3]\n",
      " [2 7]]\n",
      "2 different row echelon forms of A are\n",
      "[[1 3]\n",
      " [0 1]]\n",
      "and\n",
      "[[1 4]\n",
      " [0 1]]\n"
     ]
    }
   ],
   "source": [
    "A = np.array([\n",
    "    [1, 3],\n",
    "    [2, 7]\n",
    "])\n",
    "print (\"A =\")\n",
    "print(A)\n",
    "print(\"2 different row echelon forms of A are\")\n",
    "print(reduced_echelon.forward(A))\n",
    "print(\"and\")\n",
    "print(np.array([\n",
    "    [1, 4],\n",
    "    [0, 1]\n",
    "]))"
   ]
  },
  {
   "cell_type": "markdown",
   "metadata": {},
   "source": [
    " ## True/False\n",
    " \n",
    " a) If a matrix is in reduced echelon form then it is also in row echelon form  \n",
    " This statement is **True** because it satisfies the following conditions:  \n",
    "    + Every non-zero row has a leading 1\n",
    "    + Zero rows are at the bottom\n",
    "    + The leading 1 of the upper row is on the left of the leading 1 of the lower row\n",
    "    \n",
    " b) If any elementary row operation is applied to a matrix that is in row echelon form, the resulting matrix will still be in row echelon form  \n",
    " This statement is **False** because if we multiply any row with a number not equal to 1, then that row no longer has the leading 1.\n",
    " \n",
    " c) Every matrix has a unique row echelon form  \n",
    " This statement is **False**. Take the previous matrix as an example: Matrix **A**"
   ]
  },
  {
   "cell_type": "code",
   "execution_count": 8,
   "metadata": {},
   "outputs": [
    {
     "name": "stdout",
     "output_type": "stream",
     "text": [
      "A =\n",
      "[[1 3]\n",
      " [2 7]]\n",
      "has 2 different row echelon forms of A are\n",
      "[[1 3]\n",
      " [0 1]]\n",
      "and\n",
      "[[1 4]\n",
      " [0 1]]\n"
     ]
    }
   ],
   "source": [
    "A = np.array([\n",
    "    [1, 3],\n",
    "    [2, 7]\n",
    "])\n",
    "print (\"A =\")\n",
    "print(A)\n",
    "print(\"has 2 different row echelon forms of A are\")\n",
    "print(reduced_echelon.forward(A))\n",
    "print(\"and\")\n",
    "print(np.array([\n",
    "    [1, 4],\n",
    "    [0, 1]\n",
    "]))"
   ]
  },
  {
   "cell_type": "code",
   "execution_count": null,
   "metadata": {},
   "outputs": [],
   "source": []
  }
 ],
 "metadata": {
  "kernelspec": {
   "display_name": "Python 3",
   "language": "python",
   "name": "python3"
  },
  "language_info": {
   "codemirror_mode": {
    "name": "ipython",
    "version": 3
   },
   "file_extension": ".py",
   "mimetype": "text/x-python",
   "name": "python",
   "nbconvert_exporter": "python",
   "pygments_lexer": "ipython3",
   "version": "3.7.6"
  }
 },
 "nbformat": 4,
 "nbformat_minor": 4
}
