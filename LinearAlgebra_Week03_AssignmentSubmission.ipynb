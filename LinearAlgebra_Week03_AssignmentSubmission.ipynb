{
 "cells": [
  {
   "cell_type": "markdown",
   "metadata": {},
   "source": [
    "## Note\n",
    "**New update of library**\n",
    "+ The library name is changed into mavecop, which stands for matrix-vector operation. You can refers to it in matvecop.py (for script format) or matvecop.ipynb (for notebook format) in the MatVecOp folder. Similar to previous notebook, just import the repo (https://github.com/panda1835/Fulbright_LinearAlgebra/tree/matvecop) to Google Colab if you wish to run it.\n",
    "+ matvecop includes the reduced_echelon function, which is written for the previous assignment, transpose matrix, inverse matrix, elementary operations and many other basic vector operations. Also, I redefined all the operations using only list, so no more numpy in the code.\n",
    "+ The matvecop is being developed, so it is living in matvecop branch. When it is stable enough, I will merge it into the master branch"
   ]
  },
  {
   "cell_type": "code",
   "execution_count": 6,
   "metadata": {},
   "outputs": [],
   "source": [
    "from MatVecOp.matvecop import mat_mat_mul, transpose, inverse, identity, is_equal, dim"
   ]
  },
  {
   "cell_type": "markdown",
   "metadata": {},
   "source": [
    "## 1.3.15\n",
    "\n",
    "$\\begin{bmatrix} k&&1&&1\\end{bmatrix}$$\\begin{bmatrix} 1&&1&&0\\\\ 1&&0&&2 \\\\ 0&&2&&-3\\end{bmatrix}$$\\begin{bmatrix} k\\\\1\\\\1\\end{bmatrix} = 0$\n",
    "\n",
    "$\\Leftrightarrow$$\\begin{bmatrix} k&&1&&1\\end{bmatrix}$$\\begin{bmatrix} k+1\\\\k+2\\\\-1\\end{bmatrix} = 0$\n",
    "\n",
    "$\\Leftrightarrow (k+1)^2 = 0$\n",
    "\n",
    "$\\leftrightarrow k = -1$"
   ]
  },
  {
   "cell_type": "code",
   "execution_count": 7,
   "metadata": {},
   "outputs": [
    {
     "data": {
      "text/plain": [
       "[[0]]"
      ]
     },
     "execution_count": 7,
     "metadata": {},
     "output_type": "execute_result"
    }
   ],
   "source": [
    "# Test with routine\n",
    "k = -1\n",
    "\n",
    "A = [[k,1,1]]\n",
    "B = [[1,1,0],[1,0,2],[0,2,-3]]\n",
    "C = [[k],[1],[1]]\n",
    "\n",
    "mat_mat_mul(mat_mat_mul(A,B),C)"
   ]
  },
  {
   "cell_type": "markdown",
   "metadata": {},
   "source": [
    "## 1.3.25\n",
    "\n",
    "**a)** Suppose row i-th of matrix A is a zero rows, then we can write A as $\\begin{bmatrix} \\mathbf{v_1} \\\\\\vdots \\\\\\mathbf{0}\\\\\\vdots \\\\\\mathbf{v_n} \\end{bmatrix}$ \n",
    "\n",
    "By row method for matrix matrix multiplication, we have the i-th row of matrix $\\mathbf{AB}$ is $\\mathbf{v_iB} = \\mathbf{0B} = \\mathbf{0}$\n",
    "\n",
    "Therefore, there is a row of matrix product $\\mathbf{AB}$ has all zeros\n",
    "\n",
    "**b)** Similarly, if matrix $\\mathbf{B}$ has a column of zeros then we can write $\\mathbf{B}$ as $\\begin{bmatrix} \\mathbf{v_1} \\dots \\mathbf{0}\\dots\\mathbf{v_n} \\end{bmatrix}$ \n",
    "\n",
    "Then, by column method for matrix matrix multiplication, we have the i-th column of matrix product $\\mathbf{AB}$ is $\\mathbf{Av_i} = \\mathbf{A0} = \\mathbf{0}$\n",
    "\n",
    "Therefore, the matrix product also has a zero column"
   ]
  },
  {
   "cell_type": "markdown",
   "metadata": {},
   "source": [
    "## 1.3.34\n",
    "\n",
    "**a)** $\\mathbf{M+J}$ represents the total sale in each category in May and June\n",
    "\n",
    "**b)** $\\mathbf{M-J}$ represents the difference between May sale and June sale in each category\n",
    "\n",
    "**c)** $\\mathbf{x} = \\begin{bmatrix} 1\\\\1\\\\1 \\end{bmatrix}$\n",
    "\n",
    "**d)** $\\mathbf{y} = \\begin{bmatrix} 1&&1&&1 \\end{bmatrix}$\n",
    "\n",
    "**e)** $\\mathbf{yMx}$ represents the total sale the store sold in May"
   ]
  },
  {
   "cell_type": "markdown",
   "metadata": {},
   "source": [
    "## 1.4.11-14\n",
    "\n",
    "The following code"
   ]
  },
  {
   "cell_type": "code",
   "execution_count": 8,
   "metadata": {},
   "outputs": [
    {
     "name": "stdout",
     "output_type": "stream",
     "text": [
      "11\n",
      "True\n",
      "True\n",
      "True\n",
      "True\n",
      "\n",
      "12\n",
      "True\n",
      "True\n",
      "True\n",
      "True\n",
      "\n",
      "13\n",
      "True\n",
      "\n",
      "14\n",
      "True\n"
     ]
    }
   ],
   "source": [
    "A = [[2,-3],\n",
    "     [4, 4]]\n",
    "B = [[3,1],\n",
    "     [5,2]]\n",
    "C = [[2,0],\n",
    "     [0,3]]\n",
    "D = [[ 6, 4],\n",
    "     [-2,-1]]\n",
    "\n",
    "# 11\n",
    "print(11)\n",
    "print(is_equal(inverse(transpose(A)), transpose(inverse(A))))\n",
    "print(is_equal(inverse(transpose(B)), transpose(inverse(B))))\n",
    "print(is_equal(inverse(transpose(C)), transpose(inverse(C))))\n",
    "print(is_equal(inverse(transpose(D)), transpose(inverse(D))))\n",
    "print()\n",
    "# 12\n",
    "print(12)\n",
    "print(is_equal(inverse(inverse(A)), A))\n",
    "print(is_equal(inverse(inverse(B)), B))\n",
    "print(is_equal(inverse(inverse(C)), C))\n",
    "print(is_equal(inverse(inverse(D)), D))\n",
    "print()\n",
    "# 13\n",
    "print(13)\n",
    "print(is_equal(transpose(mat_mat_mul(mat_mat_mul(A,B),C)), mat_mat_mul(mat_mat_mul(transpose(C),transpose(B)),transpose(A))))\n",
    "print()\n",
    "# 14\n",
    "print(14)\n",
    "print(is_equal(transpose(mat_mat_mul(mat_mat_mul(A,B),C)), mat_mat_mul(mat_mat_mul(transpose(C), transpose(B)), transpose(A))))"
   ]
  },
  {
   "cell_type": "markdown",
   "metadata": {},
   "source": [
    "## 1.5.17\n",
    "\n",
    "The following code"
   ]
  },
  {
   "cell_type": "code",
   "execution_count": 9,
   "metadata": {},
   "outputs": [
    {
     "name": "stdout",
     "output_type": "stream",
     "text": [
      "[[0.25, 0.5, -3.0, 0.0], [-0.125, 0.25, -1.5, 0.0], [0.0, 0.0, 0.5, 0.0], [0.025, -0.05, -0.1, -0.2]]\n"
     ]
    }
   ],
   "source": [
    "A = [[2, -4, 0, 0], \n",
    "     [1, 2, 12, 0],\n",
    "     [0, 0, 2, 0],\n",
    "     [0, -1, -4, -5]]\n",
    "\n",
    "print(inverse(A))"
   ]
  },
  {
   "cell_type": "markdown",
   "metadata": {},
   "source": [
    "## 1.5.19\n",
    "$\\begin{bmatrix}k_1&&0&&0&&0 \\\\ 0&&k_2&&0&&0 \\\\ 0&&0&&k_3&&0 \\\\0&&0&&0&&k_4\\end{bmatrix}$\n",
    "\n",
    "This matrix can be seen as an elementary matrix whose effect on identity is to multiply each row by $k_1, k_2, k_3, k_4$. So to get the identity matrix back, just do the reverse by multiplying each result row by the reciprocal $1/k_1, 1/k_2, 1/k_3, 1/k_4$. Then we have its inverse\n",
    "\n",
    "$\\begin{bmatrix}1/k_1&&0&&0&&0 \\\\ 0&&1/k_2&&0&&0 \\\\ 0&&0&&1/k_3&&0 \\\\0&&0&&0&&1/k_4\\end{bmatrix}$\n",
    "\n",
    "Test with the below code"
   ]
  },
  {
   "cell_type": "code",
   "execution_count": 10,
   "metadata": {},
   "outputs": [
    {
     "name": "stdout",
     "output_type": "stream",
     "text": [
      "True\n"
     ]
    }
   ],
   "source": [
    "k1,k2,k3,k4 = 1,2,3,4\n",
    "A = [[k1, 0, 0, 0],\n",
    "     [0, k2, 0, 0],\n",
    "     [0, 0, k3, 0],\n",
    "     [0, 0, 0, k4]]\n",
    "\n",
    "inv_A = [[1/k1, 0, 0, 0],\n",
    "         [0, 1/k2, 0, 0],\n",
    "         [0, 0, 1/k3, 0],\n",
    "         [0, 0, 0, 1/k4]]\n",
    "      \n",
    "print(is_equal(mat_mat_mul(A, inv_A), identity(dim(A)[0])))"
   ]
  },
  {
   "cell_type": "markdown",
   "metadata": {},
   "source": [
    "## 1.5.21\n",
    "\n",
    "The reduced echelon form of $A = \\begin{bmatrix}c&&c&&c\\\\1&&c&&c\\\\1&&1&&c \\end{bmatrix}$ is $\\begin{bmatrix}1&&0&&0\\\\0&&1&&0\\\\0&&0&&1 \\end{bmatrix}$ for any $c \\neq 1$, which is an identity matrix. Therefore $A$ is invertible if and only if $c \\neq 1$"
   ]
  },
  {
   "cell_type": "code",
   "execution_count": 11,
   "metadata": {},
   "outputs": [
    {
     "data": {
      "text/plain": [
       "[[1.0, -1.0, 0.0], [0.0, 1.0, -1.0], [-0.5, 0.0, 1.0]]"
      ]
     },
     "execution_count": 11,
     "metadata": {},
     "output_type": "execute_result"
    }
   ],
   "source": [
    "c = 2\n",
    "A = [[c,c,c],\n",
    "     [1,c,c],\n",
    "     [1,1,c]]\n",
    "inverse(A)"
   ]
  }
 ],
 "metadata": {
  "kernelspec": {
   "display_name": "Python 3",
   "language": "python",
   "name": "python3"
  },
  "language_info": {
   "codemirror_mode": {
    "name": "ipython",
    "version": 3
   },
   "file_extension": ".py",
   "mimetype": "text/x-python",
   "name": "python",
   "nbconvert_exporter": "python",
   "pygments_lexer": "ipython3",
   "version": "3.8.5"
  }
 },
 "nbformat": 4,
 "nbformat_minor": 4
}
