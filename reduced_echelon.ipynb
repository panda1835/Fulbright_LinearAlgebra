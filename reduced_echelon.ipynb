{
 "cells": [
  {
   "cell_type": "markdown",
   "metadata": {},
   "source": [
    "pseudocode:\n",
    "\n",
    "Forward Step\n",
    "1. Locate the leftmost non-zero column and call it A\n",
    "2. Interchange the rows such that top entry of column A is not zero. Call it a\n",
    "3. Multiply the top role by 1/a\n",
    "4. Multiply the top row with a suitable numebr and addd it to other below rows so that all other elements of column A is 0\n",
    "5. If there is a zero row, move it to the bottom\n",
    "6. Ignore the top row and repeat the process with the next one\n",
    "\n",
    "Backward Step\n",
    "7. Beginning with the last nonzero row and working upward, add suitable multiples of each row to the rows above to introduce zeros above the leading 1’s"
   ]
  },
  {
   "cell_type": "code",
   "execution_count": 10,
   "metadata": {},
   "outputs": [],
   "source": [
    "import numpy as np\n",
    "np.set_printoptions(precision=3) # set numpy matrix display of floating point not exceed 3 decimal points"
   ]
  },
  {
   "cell_type": "code",
   "execution_count": 11,
   "metadata": {},
   "outputs": [],
   "source": [
    "def forward_helper(A, row, column):\n",
    "    \"\"\"\n",
    "    Recursive helper method for forward(A)\n",
    "    \"\"\"\n",
    "    # base case\n",
    "    if (row == len(A)):\n",
    "#         print(\"\\nDONE\\n\", A)\n",
    "        return A\n",
    "    else:\n",
    "        # 5. move zero row to the last row of matrix\n",
    "        if is_zero_row(A, row):\n",
    "            if row == len(A) - 1:\n",
    "                return A\n",
    "            temp_row = len(A)-1\n",
    "            while is_zero_row(A, temp_row):\n",
    "                temp_row -= 1\n",
    "            if temp_row == row:\n",
    "                return A\n",
    "            else:\n",
    "                A = row_interchange(A, row, temp_row)\n",
    "        # 1. locate the leftmost non-zero column\n",
    "        while(is_zero_column(A, row, column)): # move to the next column if current column is zero-column\n",
    "            column += 1\n",
    "        if column == len(A[0]-1):\n",
    "            return A\n",
    "        for i in range(row, len(A)):\n",
    "            if not A[i][column] == 0:\n",
    "                A = row_interchange(A, row, i) # 2. interchange\n",
    "                \n",
    "#                 print(f\"Interchange row {row} with row {i} \\n\", A)\n",
    "                \n",
    "                break\n",
    "        # 3. multiply the top row by 1/a\n",
    "        alpha = A[row][column]\n",
    "        A = row_scalar_multiply(A, row, 1/alpha)\n",
    "        \n",
    "#         print(f\"Multiply row {row} with 1/{alpha} \\n\", A)\n",
    "        \n",
    "        # 4. multiply the top row with a suitable number\n",
    "        if not(row == len(A)-1):\n",
    "            for i in range (row+1, len(A)):\n",
    "                if not A[i][column] == 0:\n",
    "                    alpha = A[i][column]\n",
    "                    B = row_addition(row_scalar_multiply(A, row, -1*alpha), row, i)\n",
    "                    A = row_scalar_multiply(B, row, -1/alpha)\n",
    "                    \n",
    "#             print(f\"Multiply the row {row} with a suitable number and addd it to other\", \\\n",
    "#             \"below rows so that all other elements of the current column is 0 \\n\", A) \n",
    "            \n",
    "        # 6. Recursion        \n",
    "        return forward_helper(A, row+1, column+1)"
   ]
  },
  {
   "cell_type": "code",
   "execution_count": 20,
   "metadata": {},
   "outputs": [],
   "source": [
    "def backward_helper(A, row):\n",
    "    \"\"\"\n",
    "    Recursive helper method for backward(A)\n",
    "    \"\"\"\n",
    "    # base case\n",
    "    if row == 0:\n",
    "        print(\"\\nDONE\\n\", A)\n",
    "        return A\n",
    "    \n",
    "    # recursive case\n",
    "    if is_zero_row(A, row):\n",
    "        return backward_helper(A, row-1)\n",
    "    else:\n",
    "        column = -1\n",
    "        for i in range(len(A[0])):\n",
    "            if A[row][i] == 1:\n",
    "                column = i\n",
    "                break\n",
    "                \n",
    "        for i in range(row-1, -1, -1):\n",
    "            alpha = A[i][column]\n",
    "            if not alpha == 0: # ignore 0 entry\n",
    "                B = row_addition(row_scalar_multiply(A, row, -1*alpha), row, i)\n",
    "                A = row_scalar_multiply(B, row, -1/alpha)\n",
    "#         print(f\"Row {row} \\n\", A)\n",
    "        return backward_helper(A, row-1)"
   ]
  },
  {
   "cell_type": "code",
   "execution_count": 13,
   "metadata": {},
   "outputs": [],
   "source": [
    "def forward(A):\n",
    "    \"\"\"\n",
    "    Forward step of Gaussian-Jordan elimination\n",
    "    @Param numpy matrix A\n",
    "    @Return row echelon form of matrix A\n",
    "    \"\"\"\n",
    "    return forward_helper(A,0,0)\n",
    "\n",
    "def backward(A):\n",
    "    \"\"\"\n",
    "    Backward step of Gaussian-Jordan elimination\n",
    "    @Param echelon form of matrix A\n",
    "    @Return reduced row echelon form of matrix A\n",
    "    \"\"\"\n",
    "    return backward_helper(A, len(A)-1)"
   ]
  },
  {
   "cell_type": "code",
   "execution_count": 14,
   "metadata": {},
   "outputs": [],
   "source": [
    "# Set of matrix row operation routines\n",
    "def row_interchange(A, row1, row2):\n",
    "    \"\"\"\n",
    "    Interchange 2 rows (row1 and row2) of matrix A\n",
    "    @Return the updated matrix\n",
    "    \"\"\"\n",
    "    A[[row1, row2]] = A[[row2, row1]]\n",
    "    return A\n",
    "\n",
    "def row_scalar_multiply(A, row, alpha):\n",
    "    \"\"\"\n",
    "    Multiply all entries in row of matrix A with scalar alpha\n",
    "    @Return the updated matrix\n",
    "    \"\"\"\n",
    "    A[row] = A[row]*alpha\n",
    "    return A\n",
    "    \n",
    "def row_addition(A, row1, row2):\n",
    "    \"\"\"\n",
    "    Add entry-wisely row1 to row2 of matrix A\n",
    "    @Return the updated matrix\n",
    "    \"\"\"\n",
    "    A[row2] = A[row1] + A[row2]\n",
    "    return A\n",
    "    \n",
    "def is_zero_row(A, row):\n",
    "    \"\"\"\n",
    "    Check if row of matrix A is a zero-row. \n",
    "    @Return True if it is, False otherwise\n",
    "    \"\"\"\n",
    "    return np.sum(A[row]**2) == 0\n",
    "\n",
    "def is_zero_column(A, row, column):\n",
    "    \"\"\"\n",
    "    Check if sub column below row of matrix A is a zero sub column\n",
    "    @Return True if it is, False otherwise\n",
    "    \"\"\"\n",
    "    return np.sum(A[row:,column]**2) == 0"
   ]
  },
  {
   "cell_type": "code",
   "execution_count": 15,
   "metadata": {},
   "outputs": [
    {
     "name": "stdout",
     "output_type": "stream",
     "text": [
      "Original matrix\n",
      "[[ 0  0 -2  0  7 12  0]\n",
      " [ 2  4  0  6 12 28  0]\n",
      " [ 2  4  0  6 -5 -1  0]\n",
      " [ 0  0  0  0  0  0  0]]\n",
      "Interchange row 0 and row 1 \n",
      " [[ 2  4  0  6 12 28  0]\n",
      " [ 0  0 -2  0  7 12  0]\n",
      " [ 2  4  0  6 -5 -1  0]\n",
      " [ 0  0  0  0  0  0  0]]\n",
      "Multiply row 1 with scalar 2 \n",
      " [[ 0  0 -2  0  7 12  0]\n",
      " [ 4  8  0 12 24 56  0]\n",
      " [ 2  4  0  6 -5 -1  0]\n",
      " [ 0  0  0  0  0  0  0]]\n",
      "Add row 1 to row 2 \n",
      " [[ 0  0 -2  0  7 12  0]\n",
      " [ 2  4  0  6 12 28  0]\n",
      " [ 4  8  0 12  7 27  0]\n",
      " [ 0  0  0  0  0  0  0]]\n",
      "True\n",
      "False\n",
      "True\n",
      "False\n"
     ]
    }
   ],
   "source": [
    "# Test routines\n",
    "A = [[0, 0, -2, 0, 7, 12, 0],\n",
    "     [2, 4, 0, 6, 12, 28, 0],\n",
    "     [2, 4, 0,6, -5, -1, 0],\n",
    "     [0, 0, 0, 0, 0, 0, 0]]\n",
    "A = np.array(A)\n",
    "\n",
    "print(\"Original matrix\")\n",
    "print(A)\n",
    "B = A.copy()\n",
    "print(\"Interchange row 0 and row 1 \\n\", row_interchange(B, 0, 1))\n",
    "B = A.copy()\n",
    "print(\"Multiply row 1 with scalar 2 \\n\", row_scalar_multiply(B, 1, 2))\n",
    "B = A.copy()\n",
    "print(\"Add row 1 to row 2 \\n\", row_addition(B, 1, 2))\n",
    "\n",
    "print(is_zero_row(A,-1))\n",
    "print(is_zero_row(A,-2))\n",
    "print(is_zero_column(A,1,2))\n",
    "print(is_zero_column(A,0,0))"
   ]
  },
  {
   "cell_type": "code",
   "execution_count": 16,
   "metadata": {},
   "outputs": [
    {
     "name": "stdout",
     "output_type": "stream",
     "text": [
      "Gaussian-Jordan elimination on matrix\n",
      " [[ 1.  3. -2.  0.  2.  0.  0.]\n",
      " [ 2.  6. -5. -2.  4. -3. -1.]\n",
      " [ 0.  0.  5. 10.  0. 15.  5.]\n",
      " [ 2.  6.  0.  8.  4. 18.  6.]]\n",
      "\n",
      "FORWARD\n",
      "\n",
      "BACKWARD\n",
      "Row 2 \n",
      " [[ 1.     3.    -2.     0.     2.     0.     0.   ]\n",
      " [-0.    -0.     1.     2.    -0.     0.     0.   ]\n",
      " [ 0.     0.     0.     0.     0.     1.     0.333]\n",
      " [ 0.     0.     0.     0.     0.     0.     0.   ]]\n",
      "Row 1 \n",
      " [[ 1.     3.     0.     4.     2.     0.     0.   ]\n",
      " [-0.    -0.     1.     2.    -0.     0.     0.   ]\n",
      " [ 0.     0.     0.     0.     0.     1.     0.333]\n",
      " [ 0.     0.     0.     0.     0.     0.     0.   ]]\n",
      "\n",
      "DONE\n",
      " [[ 1.     3.     0.     4.     2.     0.     0.   ]\n",
      " [-0.    -0.     1.     2.    -0.     0.     0.   ]\n",
      " [ 0.     0.     0.     0.     0.     1.     0.333]\n",
      " [ 0.     0.     0.     0.     0.     0.     0.   ]]\n"
     ]
    },
    {
     "data": {
      "text/plain": [
       "array([[ 1.   ,  3.   ,  0.   ,  4.   ,  2.   ,  0.   ,  0.   ],\n",
       "       [-0.   , -0.   ,  1.   ,  2.   , -0.   ,  0.   ,  0.   ],\n",
       "       [ 0.   ,  0.   ,  0.   ,  0.   ,  0.   ,  1.   ,  0.333],\n",
       "       [ 0.   ,  0.   ,  0.   ,  0.   ,  0.   ,  0.   ,  0.   ]])"
      ]
     },
     "execution_count": 16,
     "metadata": {},
     "output_type": "execute_result"
    }
   ],
   "source": [
    "A = [[1, 3, -2, 0, 2, 0, 0],\n",
    "     [2, 6, -5,-2, 4, -3, -1],\n",
    "     [0, 0, 5, 10, 0, 15, 5],\n",
    "     [2, 6, 0, 8, 4, 18, 6]]\n",
    "A = np.array(A, dtype = np.float64)\n",
    "print(\"Gaussian-Jordan elimination on matrix\\n\", A)\n",
    "print(\"\\nFORWARD\")\n",
    "A = forward(A)\n",
    "print(\"\\nBACKWARD\")\n",
    "backward(A)"
   ]
  },
  {
   "cell_type": "code",
   "execution_count": 31,
   "metadata": {},
   "outputs": [
    {
     "name": "stdout",
     "output_type": "stream",
     "text": [
      "\n",
      "DONE\n",
      " [[ 1 -1  0  0]\n",
      " [ 0  0  1  0]\n",
      " [ 0  0  0  1]]\n"
     ]
    },
    {
     "data": {
      "text/plain": [
       "array([[ 1, -1,  0,  0],\n",
       "       [ 0,  0,  1,  0],\n",
       "       [ 0,  0,  0,  1]])"
      ]
     },
     "execution_count": 31,
     "metadata": {},
     "output_type": "execute_result"
    }
   ],
   "source": [
    "A = np.array([\n",
    "    [1, -1, 2, 2],\n",
    "    [0, 0, 1, 4],\n",
    "    [0, 0, 0, 1]\n",
    "])\n",
    "\n",
    "backward(forward(A))"
   ]
  },
  {
   "cell_type": "code",
   "execution_count": 18,
   "metadata": {},
   "outputs": [],
   "source": [
    "def solve(A):\n",
    "    if not is_consistent(A):\n",
    "        return \"No Solution\"\n",
    "    return None"
   ]
  },
  {
   "cell_type": "code",
   "execution_count": 35,
   "metadata": {},
   "outputs": [
    {
     "name": "stdout",
     "output_type": "stream",
     "text": [
      "\n",
      "DONE\n",
      " [[ 1 -1  0  0]\n",
      " [ 0  0  1  0]\n",
      " [ 0  0  0  1]]\n"
     ]
    },
    {
     "data": {
      "text/plain": [
       "False"
      ]
     },
     "execution_count": 35,
     "metadata": {},
     "output_type": "execute_result"
    }
   ],
   "source": [
    "def is_consistent(A):\n",
    "    \"\"\"\n",
    "    Check if a system is consistent, i.e. has solution\n",
    "    @Param matrix A\n",
    "    @Return True if matrix A has solution. False otherwise\n",
    "    \"\"\"\n",
    "    A = backward(forward(A))\n",
    "    for i in range(len(A)-1, -1, -1):\n",
    "        if not is_zero_row(A, i):\n",
    "            if np.sum(A[i][:-1]**2) == 0:\n",
    "                return False\n",
    "            else:\n",
    "                return True\n",
    "\n",
    "def is_unique_solution(A):\n",
    "    \"\"\"\n",
    "    Check if a system has unique solution\n",
    "    @Param matrix A\n",
    "    @Return True if matrix A has unique solution. False otherwise\n",
    "    \"\"\"\n",
    "    if count_leading_one(A) == len(A[0] - 1):\n",
    "        return True\n",
    "    return False\n",
    "\n",
    "def is_infinite_solution(A):\n",
    "    \"\"\"\n",
    "    Check if a system has infinite solution\n",
    "    @Param matrix A\n",
    "    @Return True if matrix A has infinite solution. False otherwise\n",
    "    \"\"\"\n",
    "    if count_leading_one(A) > len(A[0] - 1):\n",
    "        return True\n",
    "    return False\n",
    "    \n",
    "def remove_zero_row(A):\n",
    "    \"\"\"\n",
    "    Remove the zero row (if there is) in a reduced echelon form of matrix A\n",
    "    @Param matrix A\n",
    "    @Return an updated matrix A with all zero rows removed\n",
    "    \"\"\"\n",
    "    number_of_row = len(A)\n",
    "    A = backward(forward(A))\n",
    "    for i in range(len(A)-1, -1, -1):\n",
    "        if is_zero_row(A,i):\n",
    "            number_of_row -= 1\n",
    "        else:\n",
    "            break\n",
    "    return A[:number_of_row]\n",
    "\n",
    "def count_leading_one(A):\n",
    "    \"\"\"\n",
    "    @Return the number of leading 1's\n",
    "    \"\"\"\n",
    "    A = remove_zero_row(A)\n",
    "    return len(A)\n",
    "    \n",
    "M = np.array([\n",
    "    [1,-1,2,2],\n",
    "    [0,1,-2,-4],\n",
    "    [0,0,1,3]\n",
    "])\n",
    "\n",
    "N = np.array([\n",
    "    [1,-1,2,2],\n",
    "    [0,0,1,2],\n",
    "    [0,0,0,0]\n",
    "])\n",
    "\n",
    "M = np.array([\n",
    "    [1,-1,2,2],\n",
    "    [0,0, 1,4],\n",
    "    [0,0,0,1]\n",
    "])\n",
    "\n",
    "B = A.copy()\n",
    "print(is_consistent(B))\n",
    "B = A.copy()\n",
    "print(is_unique_solution(B))\n",
    "B = A.copy()\n",
    "print(is_infinite_solution(B))\n",
    "B = A.copy()\n",
    "print(remove_zero_row(A))\n",
    "B = A.copy()\n",
    "print(count_leading_ont(A))"
   ]
  },
  {
   "cell_type": "code",
   "execution_count": null,
   "metadata": {},
   "outputs": [],
   "source": []
  },
  {
   "cell_type": "code",
   "execution_count": 37,
   "metadata": {},
   "outputs": [
    {
     "data": {
      "text/plain": [
       "array([[-40.,  16.,   9.],\n",
       "       [ 13.,  -5.,  -3.],\n",
       "       [  5.,  -2.,  -1.]])"
      ]
     },
     "execution_count": 37,
     "metadata": {},
     "output_type": "execute_result"
    }
   ],
   "source": [
    "from numpy.linalg import inv\n",
    "a = np.array([\n",
    "    [1, 2, 3],\n",
    "    [2, 5, 3],\n",
    "    [1, 0, 8]\n",
    "])\n",
    "\n",
    "inv(a)"
   ]
  },
  {
   "cell_type": "code",
   "execution_count": null,
   "metadata": {},
   "outputs": [],
   "source": []
  }
 ],
 "metadata": {
  "kernelspec": {
   "display_name": "Python 3",
   "language": "python",
   "name": "python3"
  },
  "language_info": {
   "codemirror_mode": {
    "name": "ipython",
    "version": 3
   },
   "file_extension": ".py",
   "mimetype": "text/x-python",
   "name": "python",
   "nbconvert_exporter": "python",
   "pygments_lexer": "ipython3",
   "version": "3.7.6"
  }
 },
 "nbformat": 4,
 "nbformat_minor": 4
}
