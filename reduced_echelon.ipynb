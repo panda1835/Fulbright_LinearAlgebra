{
 "cells": [
  {
   "cell_type": "markdown",
   "metadata": {},
   "source": [
    "pseudocode:\n",
    "\n",
    "Forward Step\n",
    "Locate the leftmost non-zero column and call it A\n",
    "Interchange the rows such that top entry of column A is not zero. Call it a\n",
    "Multiply the top role by 1/a\n",
    "Multiply the top row with a suitable numebr and addd it to other below rows so that all other elements of column A is 0\n",
    "If there is a zero row, move it to the bottom\n",
    "Ignore the top row and repeat the process with the next one\n",
    "\n",
    "Backward Step"
   ]
  },
  {
   "cell_type": "code",
   "execution_count": null,
   "metadata": {},
   "outputs": [],
   "source": [
    "def forward(A, row, column):\n",
    "    # base case\n",
    "    if (row == len(A)):\n",
    "        return\n",
    "    else:\n",
    "        # locate the leftmost non-zero column\n",
    "        for i in range(row, len(A)):\n",
    "            if A[i][column] != 0:\n",
    "                interchange(A, row, i) # interchange\n",
    "                break\n",
    "        # multiply the top role by 1/a\n",
    "        alpha = A[row][column]\n",
    "        row_multiply(A, row, 1/alpha)\n",
    "        # multiply the top row with a suitable number\n",
    "        \n",
    "        forward(A, row+1, column+1)"
   ]
  },
  {
   "cell_type": "code",
   "execution_count": null,
   "metadata": {},
   "outputs": [],
   "source": [
    "def interchange(A, row1, row2):\n",
    "    \"\"\"\n",
    "    Interchange 2 rows (row1 and row2) of matrix A\n",
    "    \"\"\"\n",
    "\n",
    "def row_multiply(A, row, alpha):\n",
    "    \"\"\"\n",
    "    Multiply all entries in row of matrix A with alpha\n",
    "    \"\"\"\n",
    "    \n",
    "def row_addition(A, row1, row2):\n",
    "    \"\"\"\n",
    "    Add 2 row1 and row2 of matrix A entry-wise\n",
    "    \"\"\""
   ]
  }
 ],
 "metadata": {
  "kernelspec": {
   "display_name": "Python 3",
   "language": "python",
   "name": "python3"
  },
  "language_info": {
   "codemirror_mode": {
    "name": "ipython",
    "version": 3
   },
   "file_extension": ".py",
   "mimetype": "text/x-python",
   "name": "python",
   "nbconvert_exporter": "python",
   "pygments_lexer": "ipython3",
   "version": "3.7.6"
  }
 },
 "nbformat": 4,
 "nbformat_minor": 4
}
