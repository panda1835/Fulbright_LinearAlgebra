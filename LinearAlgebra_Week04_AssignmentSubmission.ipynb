{
 "cells": [
  {
   "cell_type": "code",
   "execution_count": 1,
   "metadata": {},
   "outputs": [],
   "source": [
    "from MatVecOp.matvecop import reduced_echelon_form, mat_augmented"
   ]
  },
  {
   "cell_type": "markdown",
   "metadata": {},
   "source": [
    "## 4.2.7\n",
    "\n",
    "If $\\mathbf{y}$ can be expressed as a linear combination of $\\mathbf{u}$ and $\\mathbf{v}$, then the equation $\\alpha\\mathbf{u}  + \\beta\\mathbf{v} = \\mathbf{y}$ has unique solution. In other words, if $\\mathbf{x} = (\\alpha, \\beta)$ and $A$ is the matrix composed of $\\mathbf{u}$ and $\\mathbf{v}$, then the equation $A\\mathbf{x} = \\mathbf{y}$ has unique solution. I will investigate the augmented matrix of the whole system"
   ]
  },
  {
   "cell_type": "code",
   "execution_count": 2,
   "metadata": {},
   "outputs": [],
   "source": [
    "u = [[0], [-2], [-2]]\n",
    "v = [[1], [3], [1]]\n",
    "a = [[2], [2], [2]]\n",
    "b = [[0], [4], [5]]\n",
    "c = [[0], [0], [0]]\n",
    "A = mat_augmented(u,v)\n",
    "print(reduced_echelon_form(mat_augmented(A,a)))\n",
    "print(reduced_echelon_form(mat_augmented(A,b)))\n",
    "print(reduced_echelon_form(mat_augmented(A,c)))"
   ]
  },
  {
   "cell_type": "markdown",
   "metadata": {},
   "source": [
    "From the result, only system **c** has solution, which means that only $(0,0,0)$ is the linear combination of $(0,-2,2)$ and $(1,3,-1)$"
   ]
  },
  {
   "cell_type": "markdown",
   "metadata": {},
   "source": [
    "## 4.2.8"
   ]
  },
  {
   "cell_type": "code",
   "execution_count": 3,
   "metadata": {},
   "outputs": [],
   "source": [
    "u = [[2], [1], [4]]\n",
    "v = [[1], [-1], [3]]\n",
    "w = [[3], [2], [5]]\n",
    "a = [[-9], [-7], [-15]]\n",
    "b = [[6], [11], [6]]\n",
    "c = [[0], [0], [0]]\n",
    "\n",
    "A = mat_augmented(mat_augmented(u,v),w)\n",
    "\n",
    "print(\"The reduced echelon form of augmented matrix: \")\n",
    "print(\"a) \\n\", reduced_echelon_form(mat_augmented(A,a)))\n",
    "print(\"b) \\n\", reduced_echelon_form(mat_augmented(A,b)))\n",
    "print(\"c) \\n\", reduced_echelon_form(mat_augmented(A,c)))"
   ]
  },
  {
   "cell_type": "markdown",
   "metadata": {},
   "source": [
    "From the above result, we can deduce that\n",
    "\n",
    "$(-9, -7, -15) =  -2\\mathbf{u} + \\mathbf{v} + -2\\mathbf{w}$\n",
    "\n",
    "$(6, 11, 6) =  4\\mathbf{u} + -5\\mathbf{v} + 1\\mathbf{w}$\n",
    "\n",
    "$(0, 0, 0) =  0\\mathbf{u} + 0\\mathbf{v} + 0\\mathbf{w}$"
   ]
  },
  {
   "cell_type": "markdown",
   "metadata": {},
   "source": [
    "## 4.2.11\n",
    "\n",
    "If 3 vector $\\mathbf{v_1, v_2, v_3}$ span $\\mathbb{R}^3$, then any arbitrary vector $y$ in $\\mathbb{R}^3$ can be represented as a linear combination of $\\mathbf{v_1, v_2, v_3}$. In other words, if $A$ is a matrix whose columns are $\\mathbf{v_1, v_2, v_3}$, there exists a vector $\\mathbf{x} = (x_1, x_2, x_3)$ for $(x_1, x_2, x_3 \\in \\mathbb{R})$ such that $A\\mathbf{x}=y$. Thus, the equation $A\\mathbf{x}=y$ always has unique solution for any $\\mathbf{y} \\in \\mathbb{R}^3$, or, reduced echelon form of $A$ is an identity matrix."
   ]
  },
  {
   "cell_type": "code",
   "execution_count": 4,
   "metadata": {},
   "outputs": [],
   "source": [
    "# a\n",
    "v1 = [[2], [2], [2]]\n",
    "v2 = [[0], [0], [3]]\n",
    "v3 = [[0], [1], [1]]\n",
    "print(\"a) \\n\", reduced_echelon_form(mat_augmented(mat_augmented(v1,v2),v3)))\n",
    "# b\n",
    "v1 = [[2], [-1], [3]]\n",
    "v2 = [[4], [1], [2]]\n",
    "v3 = [[8], [-1], [8]]\n",
    "print(\"b) \\n\", reduced_echelon_form(mat_augmented(mat_augmented(v1,v2),v3)))"
   ]
  },
  {
   "cell_type": "markdown",
   "metadata": {},
   "source": [
    "From the result above, only $\\mathbf{v_1} = (2, 2, 2), \\mathbf{v_2} = (0, 0, 3), \\mathbf{v_3} = (0, 1, 1)$ can span $\\mathbb{R}^3$"
   ]
  },
  {
   "cell_type": "markdown",
   "metadata": {},
   "source": [
    "## 4.2.12\n",
    "\n",
    "Similar to problem **4.2.7**, if a vector lives in the span of a set of vectors, then that vector must be described as a linear combination of that set of vectors."
   ]
  },
  {
   "cell_type": "code",
   "execution_count": 5,
   "metadata": {},
   "outputs": [],
   "source": [
    "v1 = [[2], [1], [0], [3]]\n",
    "v2 = [[3], [-1], [5], [2]]\n",
    "v3 = [[-1], [0], [2], [1]]\n",
    "a = [[2], [3], [-7], [3]]\n",
    "b = [[0], [0], [0], [0]]\n",
    "c = [[1], [1], [1], [1]]\n",
    "d = [[-4], [6], [-13], [4]]"
   ]
  },
  {
   "cell_type": "code",
   "execution_count": 6,
   "metadata": {},
   "outputs": [
    {
     "name": "stdout",
     "output_type": "stream",
     "text": [
      "a) \n",
      " [[1.0, 0.0, 0.0, 2.0], [0.0, 1.0, 0.0, -1.0], [0.0, 0.0, 1.0, -1.0], [0.0, 0.0, 0.0, 0.0]]\n",
      "b) \n",
      " [[1.0, 0.0, 0.0, 0.0], [0.0, 1.0, 0.0, 0.0], [0.0, 0.0, 1.0, 0.0], [0.0, 0.0, 0.0, 0.0]]\n",
      "c) \n",
      " [[1.0, 0.0, 0.0, 0.0], [0.0, 1.0, 0.0, 0.0], [0.0, 0.0, 1.0, 0.0], [0.0, 0.0, 0.0, 1.0]]\n",
      "d) \n",
      " [[1.0, 0.0, 0.0, 3.0], [0.0, 1.0, 0.0, -3.0], [0.0, 0.0, 1.0, 1.0], [0.0, 0.0, 0.0, 0.0]]\n"
     ]
    }
   ],
   "source": [
    "A = mat_augmented(mat_augmented(v1, v2),v3)\n",
    "print(\"a) \\n\", reduced_echelon_form(mat_augmented(A,a)))\n",
    "print(\"b) \\n\", reduced_echelon_form(mat_augmented(A,b)))\n",
    "print(\"c) \\n\", reduced_echelon_form(mat_augmented(A,c)))\n",
    "print(\"d) \\n\", reduced_echelon_form(mat_augmented(A,d)))"
   ]
  },
  {
   "cell_type": "markdown",
   "metadata": {},
   "source": [
    "The result above follows that there are 3 vectors that are in span of $\\{\\mathbf{v_1, v_2, v_3}\\}$, which are\n",
    "+ $(2,3,-7,3) = 2\\mathbf{v_1} - \\mathbf{v_2} - \\mathbf{v_3}$\n",
    "+ $(0,0,0,0) = 0\\mathbf{v_1} + 0\\mathbf{v_2} + 0\\mathbf{v_3}$\n",
    "+ $(-4,6,-13,4) = 3\\mathbf{v_1} - 3\\mathbf{v_2} + \\mathbf{v_3}$"
   ]
  },
  {
   "cell_type": "code",
   "execution_count": 7,
   "metadata": {},
   "outputs": [
    {
     "data": {
      "text/plain": [
       "[[1.0, 0.0, 0.0], [0.0, 1.0, 0.0], [0.0, 0.0, 1.0], [0.0, 0.0, 0.0]]"
      ]
     },
     "execution_count": 7,
     "metadata": {},
     "output_type": "execute_result"
    }
   ],
   "source": [
    "a = [[1], [2], [2], [-1]]\n",
    "b = [[4], [9], [9], [-4]]\n",
    "c = [[5], [8], [9], [-5]]\n",
    "\n",
    "reduced_echelon_form(mat_augmented(mat_augmented(a,b),c))"
   ]
  },
  {
   "cell_type": "markdown",
   "metadata": {},
   "source": [
    "## 4.3.2\n",
    "\n",
    "Let's investigate the reduced echelon form of the matrix composed of those vectors"
   ]
  },
  {
   "cell_type": "code",
   "execution_count": 8,
   "metadata": {},
   "outputs": [
    {
     "name": "stdout",
     "output_type": "stream",
     "text": [
      "a) \n",
      " [[1.0, 0.0, 0.0], [0.0, 1.0, 0.0], [0.0, 0.0, 1.0]]\n",
      "b) \n",
      " [[1.0, 0.0, 0.0, -2.7241379310344827], [0.0, 1.0, 0.0, 0.10344827586206896], [0.0, 0.0, 1.0, 0.20689655172413793]]\n"
     ]
    }
   ],
   "source": [
    "a = [[-3], [0], [4]]\n",
    "b = [[5], [-1], [2]]\n",
    "c = [[1], [1], [3]]\n",
    "\n",
    "print(\"a) \\n\",reduced_echelon_form(mat_augmented(mat_augmented(a,b),c)))\n",
    "\n",
    "a = [[-2], [0], [1]]\n",
    "b = [[3], [2], [5]]\n",
    "c = [[6], [-1], [1]]\n",
    "d = [[7], [0], [-2]]\n",
    "\n",
    "print(\"b) \\n\",reduced_echelon_form(mat_augmented(mat_augmented(mat_augmented(a,b),c),d)))"
   ]
  },
  {
   "cell_type": "markdown",
   "metadata": {},
   "source": [
    "From the above result, it is evident that only those vectors in **a** make a linearly independent set of vectors"
   ]
  },
  {
   "cell_type": "markdown",
   "metadata": {},
   "source": [
    "## 4.3.7\n",
    "\n",
    "Similar approach to determine if a set of vectors are linearly dependent. If they are then they must line in the same plane in $\\mathbb{R}^3$"
   ]
  },
  {
   "cell_type": "code",
   "execution_count": 9,
   "metadata": {},
   "outputs": [
    {
     "name": "stdout",
     "output_type": "stream",
     "text": [
      "a) \n",
      " [[1.0, 0.0, 0.0], [0.0, 1.0, 0.0], [0.0, 0.0, 1.0]]\n",
      "b) \n",
      " [[1.0, 0.0, -0.3333333333333333], [0.0, 1.0, 0.6666666666666666], [0.0, 0.0, 0.0]]\n"
     ]
    }
   ],
   "source": [
    "# a\n",
    "v1 = [[2], [-2], [0]]\n",
    "v2 = [[6], [1], [4]]\n",
    "v3 = [[2], [0], [-4]]\n",
    "\n",
    "print(\"a) \\n\",reduced_echelon_form(mat_augmented(mat_augmented(v1,v2),v3)))\n",
    "\n",
    "# b\n",
    "v1 = [[-6], [7], [2]]\n",
    "v2 = [[3], [2], [4]]\n",
    "v3 = [[4], [-1], [2]]\n",
    "\n",
    "print(\"b) \\n\",reduced_echelon_form(mat_augmented(mat_augmented(v1,v2),v3)))"
   ]
  },
  {
   "cell_type": "markdown",
   "metadata": {},
   "source": [
    "From the result above, only those vectors in session **b** lie in the same plan in $\\mathbb{R}^3$"
   ]
  },
  {
   "cell_type": "markdown",
   "metadata": {},
   "source": [
    "## 4.3.9"
   ]
  },
  {
   "cell_type": "code",
   "execution_count": 12,
   "metadata": {},
   "outputs": [
    {
     "data": {
      "text/plain": [
       "('a) \\n',\n",
       " [[1.0, 0.0, -2.333333333333333],\n",
       "  [0.0, 1.0, 0.6666666666666666],\n",
       "  [0.0, 0.0, 0.0],\n",
       "  [0.0, 0.0, 3.3306690738754696e-16]])"
      ]
     },
     "execution_count": 12,
     "metadata": {},
     "output_type": "execute_result"
    }
   ],
   "source": [
    "v1 = [[0], [3], [1], [-1]]\n",
    "v2 = [[6], [0], [5], [1]]\n",
    "v3 = [[4], [-7], [1], [3]]\n",
    "\n",
    "A = [[0,6,4],[3,0,-7],[1,5,1],[-1,1,3]]\n",
    "(\"a) \\n\",reduced_echelon_form(mat_augmented(mat_augmented(v1,v2),v3)))"
   ]
  },
  {
   "cell_type": "markdown",
   "metadata": {},
   "source": [
    "From the result above, there are column that has no leading 1, thus it is expressible as a linear combination of the other two. More specifically, $\\begin{pmatrix}4\\\\-7\\\\1\\\\3\\end{pmatrix} = \\frac{-7}{3}\\begin{pmatrix}0\\\\3\\\\1\\\\-1\\end{pmatrix} +\\frac{2}{3}\\begin{pmatrix}6\\\\0\\\\5\\\\1\\end{pmatrix}$"
   ]
  },
  {
   "cell_type": "code",
   "execution_count": null,
   "metadata": {},
   "outputs": [],
   "source": []
  }
 ],
 "metadata": {
  "kernelspec": {
   "display_name": "Python 3",
   "language": "python",
   "name": "python3"
  },
  "language_info": {
   "codemirror_mode": {
    "name": "ipython",
    "version": 3
   },
   "file_extension": ".py",
   "mimetype": "text/x-python",
   "name": "python",
   "nbconvert_exporter": "python",
   "pygments_lexer": "ipython3",
   "version": "3.7.6"
  }
 },
 "nbformat": 4,
 "nbformat_minor": 4
}
