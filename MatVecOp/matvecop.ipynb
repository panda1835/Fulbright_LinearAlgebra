{
 "cells": [
  {
   "cell_type": "code",
   "execution_count": null,
   "metadata": {},
   "outputs": [],
   "source": []
  },
  {
   "cell_type": "code",
   "execution_count": 35,
   "metadata": {},
   "outputs": [],
   "source": [
    "import copy"
   ]
  },
  {
   "cell_type": "code",
   "execution_count": 166,
   "metadata": {},
   "outputs": [],
   "source": [
    "def is_column(a):\n",
    "    \"\"\"\n",
    "    Check if vector a is a column vector\n",
    "    \"\"\"\n",
    "    m, n = dim(a)\n",
    "    return m > 1 and n == 1\n",
    "\n",
    "def is_row(a):\n",
    "    \"\"\"\n",
    "    Check if vector a is a row vector\n",
    "    \"\"\"\n",
    "    m, n = dim(a)\n",
    "    return m == 1 and n > 1\n",
    "\n",
    "def is_vector(a):\n",
    "    \"\"\"\n",
    "    Check if a is a vector\n",
    "    \"\"\"\n",
    "    return is_row(a) or is_column(a)\n",
    "\n",
    "def is_scalar(a):\n",
    "    \"\"\"\n",
    "    Check if a is a scalar\n",
    "    \"\"\"\n",
    "    m, n = dim(a)\n",
    "    return m == 1 and n == 1\n",
    "\n",
    "def is_zero(A):\n",
    "    \"\"\"\n",
    "    Check if A is a zero matrix\n",
    "    \"\"\"\n",
    "    return sum((A[i][j] for i in range(len(A)) for j in range(len(A[0])))) == 0"
   ]
  },
  {
   "cell_type": "code",
   "execution_count": 171,
   "metadata": {},
   "outputs": [
    {
     "name": "stdout",
     "output_type": "stream",
     "text": [
      "False\n",
      "True\n"
     ]
    }
   ],
   "source": [
    "A = [[0,0,0],\n",
    "     [0,0,1]]\n",
    "B = [[0,0,0],\n",
    "     [0,0,0]]\n",
    "print(is_zero(A))\n",
    "print(is_zero(B))"
   ]
  },
  {
   "cell_type": "code",
   "execution_count": 146,
   "metadata": {},
   "outputs": [],
   "source": [
    "# Matrix initialization\n",
    "def zeros(m,n):\n",
    "    \"\"\"\n",
    "    Create a zero matrix of size mxn\n",
    "    \"\"\"\n",
    "    return [[0 for i in range(n)] for j in range(m)]\n",
    "\n",
    "def identity(n):\n",
    "    \"\"\"\n",
    "    Create an identity matrix of size nxn\n",
    "    \"\"\"\n",
    "    C = zeros(n,n)\n",
    "    for i in range(n):\n",
    "        C[i][i] = 1\n",
    "    return C"
   ]
  },
  {
   "cell_type": "code",
   "execution_count": 150,
   "metadata": {},
   "outputs": [
    {
     "data": {
      "text/plain": [
       "[[1, 0, 0, 0], [0, 1, 0, 0], [0, 0, 1, 0], [0, 0, 0, 1]]"
      ]
     },
     "execution_count": 150,
     "metadata": {},
     "output_type": "execute_result"
    }
   ],
   "source": [
    "identity(4)"
   ]
  },
  {
   "cell_type": "code",
   "execution_count": 172,
   "metadata": {},
   "outputs": [],
   "source": [
    "# Matrix property\n",
    "def dim(A):\n",
    "    \"\"\"\n",
    "    Return the size of matrix A\n",
    "    \"\"\"\n",
    "    if isinstance(A, int) or isinstance(A, float):\n",
    "        return 1,1\n",
    "    # row vector\n",
    "    elif isinstance(A, list) and not isinstance(A[0], list):\n",
    "        return 1, len(A)\n",
    "    elif isinstance(A[0], list) and not isinstance(A, list):\n",
    "        return len(A), 1\n",
    "    else:\n",
    "        return len(A), len(A[0])\n",
    "    \n",
    "def mat_get_row(A,i):\n",
    "    \"\"\"\n",
    "    Return the row at index i of matrix A\n",
    "    \"\"\"\n",
    "    return [A[i]]\n",
    "\n",
    "def mat_get_column(A,j):\n",
    "    \"\"\"\n",
    "    Return the column at index j of matrix A\n",
    "    \"\"\"\n",
    "    return [[A[i][j]] for i in range(len(A))]\n",
    "\n",
    "def tr(A):\n",
    "    \"\"\"\n",
    "    Calculate the trace of matrix A\n",
    "    \"\"\"\n",
    "    if not dim(A)[0] == dim(A)[1]:\n",
    "        return f\"Not a square matrix {dim(A)}\"\n",
    "    return sum(A[i][i] for i in range(len(A)))"
   ]
  },
  {
   "cell_type": "code",
   "execution_count": 145,
   "metadata": {},
   "outputs": [
    {
     "name": "stdout",
     "output_type": "stream",
     "text": [
      "[[1], [2], [3]]\n",
      "[[1, 2, 3]]\n",
      "[[1, 4], [2, 5], [3, 6]]\n",
      "[[4, 5, 6]]\n",
      "[[2], [5]]\n",
      "Not a square matrix (2, 3)\n"
     ]
    }
   ],
   "source": [
    "a = [[1,2,3]]\n",
    "b = [[1],[2],[3]]\n",
    "C = [[1,2,3],[4,5,6]]\n",
    "print(transpose(a))\n",
    "print(transpose(b))\n",
    "print(transpose(C))\n",
    "print(row_mat(C,1))\n",
    "print(column_mat(C,1))\n",
    "print(tr(C))"
   ]
  },
  {
   "cell_type": "code",
   "execution_count": 138,
   "metadata": {},
   "outputs": [],
   "source": [
    "def transpose(A):\n",
    "    \"\"\"\n",
    "    Transpose matrix A\n",
    "    \"\"\"\n",
    "    n_C, m_C = dim(A)\n",
    "    C = zeros(m_C, n_C)\n",
    "    if is_scalar(A):\n",
    "        C = [A]\n",
    "    elif is_row(A):\n",
    "        for i in range(len(A[0])):\n",
    "            C[i][0] = A[0][i]\n",
    "    elif is_column(A):\n",
    "        for i in range(len(A)):\n",
    "            C[0][i] = A[i][0]\n",
    "    else:\n",
    "        for i in range (m_C):\n",
    "            for j in range (n_C):\n",
    "                C[i][j] = A[j][i]\n",
    "    return C\n",
    "\n",
    "def mat_add(A,B):\n",
    "    \"\"\"\n",
    "    Add entry-wise matrix B to A\n",
    "    \"\"\"\n",
    "    C = copy.deepcopy(A)\n",
    "    if not dim(A) == dim(B):\n",
    "        return \"Unequal size A and B\"\n",
    "    \n",
    "    for i in range(len(A)):\n",
    "        for j in range(len(A[0])):\n",
    "            C[i][j] += B[i][j]\n",
    "    return C\n",
    "\n",
    "def mat_sub(A,B):\n",
    "    \"\"\"\n",
    "    Subtract entry-wise matrix B from A\n",
    "    \"\"\"\n",
    "    C = copy.deepcopy(A)\n",
    "    if not dim(A) == dim(B):\n",
    "        return \"Unequal size A and B\"\n",
    "    \n",
    "    for i in range(len(A)):\n",
    "        for j in range(len(A[0])):\n",
    "            C[i][j] -= B[i][j]\n",
    "    return C\n",
    "\n",
    "def mat_scal_mul(A, alpha):\n",
    "    \"\"\"\n",
    "    Multiply entry-wise matrix A with scalar alpha\n",
    "    \"\"\"\n",
    "    C = copy.deepcopy(A)\n",
    "    for i in range(len(A)):\n",
    "        for j in range(len(A[0])):\n",
    "            C[i][j] *= alpha\n",
    "    return C\n",
    "\n",
    "def dot(a,b):\n",
    "    \"\"\"\n",
    "    Calculate dot product between vector a and b\n",
    "    \"\"\"\n",
    "    if not (is_vector(a) and is_vector(b)):\n",
    "        return f\"Invalid vector size {dim(a)} and {dim(b)}\"\n",
    "    if not is_row(a):\n",
    "        a = transpose(a)\n",
    "    if not is_column(b):\n",
    "        b = transpose(b)\n",
    "    if not dim(a)[1] == dim(b)[0]:\n",
    "        return f\"Invalid vector size {dim(a)} and {dim(b)}\"\n",
    "    return sum(a[0][i]*b[i][0] for i in range(len(a[0]))) \n",
    "\n",
    "def mat_mat_mul(A,B):\n",
    "    \"\"\"\n",
    "    Implement matrix-matrix multiplication\n",
    "    \"\"\"\n",
    "    if not dim(A)[1] == dim(B)[0]:\n",
    "        return f\"Invalid matrix size {dim(A)} and {dim(B)}\"\n",
    "    \n",
    "    C = zeros(dim(A)[0], dim(B)[1])\n",
    "    for i in range(len(A)):\n",
    "        for j in range(len(B[0])):\n",
    "            C[i][j] = dot(row_mat(A,i), column_mat(B,j))\n",
    "    return C\n",
    "\n",
    "def inverse(A):\n",
    "    \"\"\"\n",
    "    Return the inverse of matrix A\n",
    "    \"\"\""
   ]
  },
  {
   "cell_type": "code",
   "execution_count": 139,
   "metadata": {},
   "outputs": [
    {
     "name": "stdout",
     "output_type": "stream",
     "text": [
      "[[2, 4], [6, 8]]\n",
      "[[0, 0], [0, 0]]\n",
      "[[3, 6], [9, 12]]\n"
     ]
    }
   ],
   "source": [
    "A = [\n",
    "    [1,2],\n",
    "    [3,4]\n",
    "    ]\n",
    "\n",
    "B = [\n",
    "    [1,2],\n",
    "    [3,4]\n",
    "    ]\n",
    "\n",
    "print(mat_add(A,B))\n",
    "print(mat_sub(A,B))\n",
    "print(mat_scal_mul(A,3))\n",
    "a = [[1,2,3,4]]\n",
    "b = [[1],[2],[3]]\n",
    "print(dot(a,b))\n",
    "A = [[-1,0],[2,3]]\n",
    "B = [[1],[3]]\n",
    "print(mat_mat_mul(A,B))"
   ]
  },
  {
   "cell_type": "code",
   "execution_count": 164,
   "metadata": {},
   "outputs": [],
   "source": [
    "# Elementary row operation\n",
    "def row_interchange(A, row1, row2):\n",
    "    \"\"\"\n",
    "    Interchange row1 and row2 of matrix A\n",
    "    \"\"\"\n",
    "    if max(row1, row2) >= len(A):\n",
    "        return f\"There is no such pair ({row1}, {row2})\"\n",
    "    I = identity(dim(A)[0])\n",
    "    I[row1][row2] = 1\n",
    "    I[row1][row1] = 0\n",
    "    I[row2][row1] = 1\n",
    "    I[row2][row2] = 0\n",
    "    return mat_mat_mul(I,A)\n",
    "\n",
    "def row_add(A, alpha, row1, row2):\n",
    "    \"\"\"\n",
    "    row2 := alpha*row1 + row2\n",
    "    \"\"\"\n",
    "    if max(row1, row2) >= len(A):\n",
    "        return f\"There is no such pair ({row1}, {row2})\"\n",
    "    I = identity(dim(A)[0])\n",
    "    I[row2][row1] = alpha\n",
    "    return mat_mat_mul(I,A)\n",
    "    \n",
    "def row_mul(A, alpha, row):\n",
    "    \"\"\"\n",
    "    row := alpha*row\n",
    "    \"\"\"\n",
    "    if row >= len(A):\n",
    "        return f\"Row index exceeds the number of row {len(A)}\"\n",
    "    I = identity(dim(A)[0])\n",
    "    I[row][row] = alpha\n",
    "    return mat_mat_mul(I,A)"
   ]
  },
  {
   "cell_type": "code",
   "execution_count": 165,
   "metadata": {},
   "outputs": [
    {
     "name": "stdout",
     "output_type": "stream",
     "text": [
      "[[1, 2, 3, 4], [3, 3, 2, 6], [3, 4, 5, 6]]\n",
      "[[1, 2, 3, 4], [3, 4, 5, 6], [12, 15, 17, 24]]\n",
      "[[1, 2, 3, 4], [3, 4, 5, 6], [6, 6, 4, 12]]\n"
     ]
    }
   ],
   "source": [
    "A = [\n",
    "    [1, 2, 3, 4],\n",
    "    [3, 4, 5, 6],\n",
    "    [3, 3, 2, 6]\n",
    "]\n",
    "print(interchange(A, 1,2))\n",
    "print(row_add(A, 3, 1,2))\n",
    "print(row_mul(A, 2,2))"
   ]
  },
  {
   "cell_type": "code",
   "execution_count": 181,
   "metadata": {},
   "outputs": [],
   "source": [
    "def forward_helper(A, row, column):\n",
    "    \"\"\"\n",
    "    Recursive helper method for forward(A)\n",
    "    \"\"\"\n",
    "    # base case\n",
    "    if (row == len(A)):\n",
    "        return A\n",
    "    else:\n",
    "        # 5. move zero row to the last row of matrix\n",
    "        if is_zero(mat_get_row(A, row)):\n",
    "            if row == len(A) - 1:\n",
    "                return A\n",
    "            temp_row = len(A)-1\n",
    "            while is_zero(mat_get_row(A, temp_row)):\n",
    "                temp_row -= 1\n",
    "            if temp_row == row:\n",
    "                return A\n",
    "            else:\n",
    "                A = row_interchange(A, row, temp_row)\n",
    "        # 1. locate the leftmost non-zero column\n",
    "        while(is_zero(mat_get_column(A, column)[row:])): # move to the next column if current column is zero-column\n",
    "            column += 1\n",
    "        if column == len(A[0])-1:\n",
    "            return A\n",
    "        for i in range(row, len(A)):\n",
    "            if not A[i][column] == 0:\n",
    "                A = row_interchange(A, row, i) # 2. interchange                \n",
    "                break\n",
    "        # 3. multiply the top row by 1/a\n",
    "        alpha = A[row][column]\n",
    "        A = row_mul(A, 1/alpha, row)\n",
    "                \n",
    "        # 4. multiply the top row with a suitable number\n",
    "        if not(row == len(A)-1):\n",
    "            for i in range (row+1, len(A)):\n",
    "                if not A[i][column] == 0:\n",
    "                    alpha = A[i][column]\n",
    "                    A = row_addition(A, alpha, row, i)\n",
    "            \n",
    "        # 6. Recursion        \n",
    "        return forward_helper(A, row+1, column+1)"
   ]
  },
  {
   "cell_type": "code",
   "execution_count": 182,
   "metadata": {},
   "outputs": [],
   "source": [
    "def forward(A):\n",
    "    \"\"\"\n",
    "    Forward step of Gaussian-Jordan elimination\n",
    "    @Param numpy matrix A\n",
    "    @Return row echelon form of matrix A\n",
    "    \"\"\"\n",
    "    return forward_helper(A,0,0)\n",
    "\n",
    "def backward(A):\n",
    "    \"\"\"\n",
    "    Backward step of Gaussian-Jordan elimination\n",
    "    @Param echelon form of matrix A\n",
    "    @Return reduced row echelon form of matrix A\n",
    "    \"\"\"\n",
    "    return backward_helper(A, len(A)-1)"
   ]
  },
  {
   "cell_type": "code",
   "execution_count": 183,
   "metadata": {},
   "outputs": [
    {
     "name": "stdout",
     "output_type": "stream",
     "text": [
      "Gaussian-Jordan elimination on matrix\n",
      " [[1, 3, -2, 0, 2, 0, 0], [2, 6, -5, -2, 4, -3, -1], [0, 0, 5, 10, 0, 15, 5], [2, 6, 0, 8, 4, 18, 6]]\n",
      "\n",
      "FORWARD\n"
     ]
    },
    {
     "ename": "ZeroDivisionError",
     "evalue": "division by zero",
     "output_type": "error",
     "traceback": [
      "\u001b[1;31m---------------------------------------------------------------------------\u001b[0m",
      "\u001b[1;31mZeroDivisionError\u001b[0m                         Traceback (most recent call last)",
      "\u001b[1;32m<ipython-input-183-8fe05b28a932>\u001b[0m in \u001b[0;36m<module>\u001b[1;34m\u001b[0m\n\u001b[0;32m      5\u001b[0m \u001b[0mprint\u001b[0m\u001b[1;33m(\u001b[0m\u001b[1;34m\"Gaussian-Jordan elimination on matrix\\n\"\u001b[0m\u001b[1;33m,\u001b[0m \u001b[0mA\u001b[0m\u001b[1;33m)\u001b[0m\u001b[1;33m\u001b[0m\u001b[1;33m\u001b[0m\u001b[0m\n\u001b[0;32m      6\u001b[0m \u001b[0mprint\u001b[0m\u001b[1;33m(\u001b[0m\u001b[1;34m\"\\nFORWARD\"\u001b[0m\u001b[1;33m)\u001b[0m\u001b[1;33m\u001b[0m\u001b[1;33m\u001b[0m\u001b[0m\n\u001b[1;32m----> 7\u001b[1;33m \u001b[0mA\u001b[0m \u001b[1;33m=\u001b[0m \u001b[0mforward\u001b[0m\u001b[1;33m(\u001b[0m\u001b[0mA\u001b[0m\u001b[1;33m)\u001b[0m\u001b[1;33m\u001b[0m\u001b[1;33m\u001b[0m\u001b[0m\n\u001b[0m",
      "\u001b[1;32m<ipython-input-182-fb7cfbc9a111>\u001b[0m in \u001b[0;36mforward\u001b[1;34m(A)\u001b[0m\n\u001b[0;32m      5\u001b[0m     \u001b[1;33m@\u001b[0m\u001b[0mReturn\u001b[0m \u001b[0mrow\u001b[0m \u001b[0mechelon\u001b[0m \u001b[0mform\u001b[0m \u001b[0mof\u001b[0m \u001b[0mmatrix\u001b[0m \u001b[0mA\u001b[0m\u001b[1;33m\u001b[0m\u001b[1;33m\u001b[0m\u001b[0m\n\u001b[0;32m      6\u001b[0m     \"\"\"\n\u001b[1;32m----> 7\u001b[1;33m     \u001b[1;32mreturn\u001b[0m \u001b[0mforward_helper\u001b[0m\u001b[1;33m(\u001b[0m\u001b[0mA\u001b[0m\u001b[1;33m,\u001b[0m\u001b[1;36m0\u001b[0m\u001b[1;33m,\u001b[0m\u001b[1;36m0\u001b[0m\u001b[1;33m)\u001b[0m\u001b[1;33m\u001b[0m\u001b[1;33m\u001b[0m\u001b[0m\n\u001b[0m\u001b[0;32m      8\u001b[0m \u001b[1;33m\u001b[0m\u001b[0m\n\u001b[0;32m      9\u001b[0m \u001b[1;32mdef\u001b[0m \u001b[0mbackward\u001b[0m\u001b[1;33m(\u001b[0m\u001b[0mA\u001b[0m\u001b[1;33m)\u001b[0m\u001b[1;33m:\u001b[0m\u001b[1;33m\u001b[0m\u001b[1;33m\u001b[0m\u001b[0m\n",
      "\u001b[1;32m<ipython-input-181-8ccdada94308>\u001b[0m in \u001b[0;36mforward_helper\u001b[1;34m(A, row, column)\u001b[0m\n\u001b[0;32m     30\u001b[0m         \u001b[1;31m# 3. multiply the top row by 1/a\u001b[0m\u001b[1;33m\u001b[0m\u001b[1;33m\u001b[0m\u001b[1;33m\u001b[0m\u001b[0m\n\u001b[0;32m     31\u001b[0m         \u001b[0malpha\u001b[0m \u001b[1;33m=\u001b[0m \u001b[0mA\u001b[0m\u001b[1;33m[\u001b[0m\u001b[0mrow\u001b[0m\u001b[1;33m]\u001b[0m\u001b[1;33m[\u001b[0m\u001b[0mcolumn\u001b[0m\u001b[1;33m]\u001b[0m\u001b[1;33m\u001b[0m\u001b[1;33m\u001b[0m\u001b[0m\n\u001b[1;32m---> 32\u001b[1;33m         \u001b[0mA\u001b[0m \u001b[1;33m=\u001b[0m \u001b[0mrow_mul\u001b[0m\u001b[1;33m(\u001b[0m\u001b[0mA\u001b[0m\u001b[1;33m,\u001b[0m \u001b[1;36m1\u001b[0m\u001b[1;33m/\u001b[0m\u001b[0malpha\u001b[0m\u001b[1;33m,\u001b[0m \u001b[0mrow\u001b[0m\u001b[1;33m)\u001b[0m\u001b[1;33m\u001b[0m\u001b[1;33m\u001b[0m\u001b[0m\n\u001b[0m\u001b[0;32m     33\u001b[0m \u001b[1;33m\u001b[0m\u001b[0m\n\u001b[0;32m     34\u001b[0m         \u001b[1;31m# 4. multiply the top row with a suitable number\u001b[0m\u001b[1;33m\u001b[0m\u001b[1;33m\u001b[0m\u001b[1;33m\u001b[0m\u001b[0m\n",
      "\u001b[1;31mZeroDivisionError\u001b[0m: division by zero"
     ]
    }
   ],
   "source": [
    "A = [[1, 3, -2, 0, 2, 0, 0],\n",
    "     [2, 6, -5,-2, 4, -3, -1],\n",
    "     [0, 0, 5, 10, 0, 15, 5],\n",
    "     [2, 6, 0, 8, 4, 18, 6]]\n",
    "print(\"Gaussian-Jordan elimination on matrix\\n\", A)\n",
    "print(\"\\nFORWARD\")\n",
    "A = forward(A)"
   ]
  },
  {
   "cell_type": "code",
   "execution_count": null,
   "metadata": {},
   "outputs": [],
   "source": []
  }
 ],
 "metadata": {
  "kernelspec": {
   "display_name": "Python 3",
   "language": "python",
   "name": "python3"
  },
  "language_info": {
   "codemirror_mode": {
    "name": "ipython",
    "version": 3
   },
   "file_extension": ".py",
   "mimetype": "text/x-python",
   "name": "python",
   "nbconvert_exporter": "python",
   "pygments_lexer": "ipython3",
   "version": "3.8.5"
  }
 },
 "nbformat": 4,
 "nbformat_minor": 4
}
