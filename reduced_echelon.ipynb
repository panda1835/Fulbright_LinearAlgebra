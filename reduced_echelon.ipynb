{
 "cells": [
  {
   "cell_type": "markdown",
   "metadata": {},
   "source": [
    "pseudocode:\n",
    "\n",
    "Forward Step\n",
    "1. Locate the leftmost non-zero column and call it A\n",
    "2. Interchange the rows such that top entry of column A is not zero. Call it a\n",
    "3. Multiply the top role by 1/a\n",
    "4. Multiply the top row with a suitable numebr and addd it to other below rows so that all other elements of column A is 0\n",
    "5. If there is a zero row, move it to the bottom\n",
    "6. Ignore the top row and repeat the process with the next one\n",
    "\n",
    "Backward Step"
   ]
  },
  {
   "cell_type": "code",
   "execution_count": 38,
   "metadata": {},
   "outputs": [],
   "source": [
    "def forward(A, row, column):\n",
    "    # base case\n",
    "    if (row == len(A)):\n",
    "        return A\n",
    "    else:\n",
    "        # 5. move zero row to the last row of matrix\n",
    "        if is_zero_row(A, row):\n",
    "            temp_row = len(A-1)\n",
    "            while (not temp_row == row) or notis_zero_row(A, temp_row):\n",
    "                temp_row -= 1\n",
    "            if nottemp_row == row:\n",
    "                return\n",
    "            else:\n",
    "                A = interchange(A, row, temp_row)\n",
    "        # 1. locate the leftmost non-zero column\n",
    "        for i in range(row, len(A)):\n",
    "            if not A[i][column] == 0:\n",
    "                A = interchange(A, row, i) # 2. interchange\n",
    "                break\n",
    "        # 3. multiply the top role by 1/a\n",
    "        alpha = A[row][column]\n",
    "        A = row_multiply(A, row, 1/alpha)\n",
    "        # 4. multiply the top row with a suitable number\n",
    "        if not(row == len(A)-1):\n",
    "            for i in range (row+1, len(A)):\n",
    "                if not A[row][column] == 0:\n",
    "                    alpha = A[row][column]\n",
    "                    A = row_addition(row_multiply(A, row, -1*alpha), row, i)\n",
    "                    A = row_multiply(A, row, -1/alpha)\n",
    "                \n",
    "        # 6. Recursion        \n",
    "        forward(A, row+1, column+1)"
   ]
  },
  {
   "cell_type": "code",
   "execution_count": 39,
   "metadata": {},
   "outputs": [],
   "source": [
    "def interchange(A, row1, row2):\n",
    "    \"\"\"\n",
    "    Interchange 2 rows (row1 and row2) of matrix A\n",
    "    \"\"\"\n",
    "    A[row1], A[row2] = A[row2], A[row1]\n",
    "    return A\n",
    "\n",
    "def row_multiply(A, row, alpha):\n",
    "    \"\"\"\n",
    "    Multiply all entries in row of matrix A with alpha\n",
    "    Return the multiplied row\n",
    "    \"\"\"\n",
    "    for i in range(len(A[row])):\n",
    "        a = A[row][i]\n",
    "        A[row][i] = a*alpha\n",
    "    return A\n",
    "    \n",
    "def row_addition(A, row1, row2):\n",
    "    \"\"\"\n",
    "    Add row1 to row2 of matrix A entry-wise\n",
    "    \"\"\"\n",
    "    for i in range(len(A[row1])):\n",
    "        A[row2][i] += A[row1][i]\n",
    "    return A\n",
    "    \n",
    "def is_zero_row(A, row):\n",
    "    \"\"\"\n",
    "    Check if row of matrix A is a zero-row. \n",
    "    Return True if it is, else otherwise\n",
    "    \"\"\"\n",
    "    sos = 0\n",
    "    for i in range(len(A[row])):\n",
    "        sos += A[row][i]**2\n",
    "    return sos == 0"
   ]
  },
  {
   "cell_type": "code",
   "execution_count": 40,
   "metadata": {},
   "outputs": [],
   "source": [
    "A = [[0, 0, -2, 0, 7, 12],\n",
    "     [2, 4, -10, 6, 12, 28],\n",
    "     [2, 4, -5,6, -5, -1]]\n",
    "\n",
    "forward(A, 0, 0)"
   ]
  },
  {
   "cell_type": "code",
   "execution_count": 41,
   "metadata": {},
   "outputs": [
    {
     "data": {
      "text/plain": [
       "[[1.0, 2.0, -5.0, 3.0, 6.0, 14.0],\n",
       " [0.5, 1.0, -1.5, 1.5, -0.5, 1.0],\n",
       " [0.3333333333333333, 0.6666666666666666, 1.0, 1.0, -7.0, -10.666666666666666]]"
      ]
     },
     "execution_count": 41,
     "metadata": {},
     "output_type": "execute_result"
    }
   ],
   "source": [
    "A"
   ]
  },
  {
   "cell_type": "code",
   "execution_count": null,
   "metadata": {},
   "outputs": [],
   "source": [
    "A-true = [[1, 2, -5, 3, 6, 14],\n",
    "     [0, 0, 1, 0, -7/2, 28],\n",
    "     [2, 4, -5,6, -5, -1]]"
   ]
  }
 ],
 "metadata": {
  "kernelspec": {
   "display_name": "Python 3",
   "language": "python",
   "name": "python3"
  },
  "language_info": {
   "codemirror_mode": {
    "name": "ipython",
    "version": 3
   },
   "file_extension": ".py",
   "mimetype": "text/x-python",
   "name": "python",
   "nbconvert_exporter": "python",
   "pygments_lexer": "ipython3",
   "version": "3.7.6"
  }
 },
 "nbformat": 4,
 "nbformat_minor": 4
}
