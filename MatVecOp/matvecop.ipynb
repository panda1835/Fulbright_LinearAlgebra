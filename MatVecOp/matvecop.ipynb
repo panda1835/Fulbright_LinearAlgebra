{
 "cells": [
  {
   "cell_type": "code",
   "execution_count": null,
   "metadata": {},
   "outputs": [],
   "source": []
  },
  {
   "cell_type": "code",
   "execution_count": 35,
   "metadata": {},
   "outputs": [],
   "source": [
    "import copy"
   ]
  },
  {
   "cell_type": "code",
   "execution_count": 110,
   "metadata": {},
   "outputs": [],
   "source": [
    "def is_column(a):\n",
    "    \"\"\"\n",
    "    Check if vector a is a column vector\n",
    "    \"\"\"\n",
    "    m, n = dim(a)\n",
    "    return m > 1 and n == 1\n",
    "\n",
    "def is_row(a):\n",
    "    \"\"\"\n",
    "    Check if vector a is a row vector\n",
    "    \"\"\"\n",
    "    m, n = dim(a)\n",
    "    return m == 1 and n > 1\n",
    "\n",
    "def is_vector(a):\n",
    "    \"\"\"\n",
    "    Check if a is a vector\n",
    "    \"\"\"\n",
    "    return is_row(a) or is_column(a)\n",
    "\n",
    "def is_scalar(a):\n",
    "    \"\"\"\n",
    "    Check if a is a scalar\n",
    "    \"\"\"\n",
    "    m, n = dim(a)\n",
    "    return m == 1 and n == 1"
   ]
  },
  {
   "cell_type": "code",
   "execution_count": 143,
   "metadata": {},
   "outputs": [],
   "source": [
    "def zeros(m,n):\n",
    "    \"\"\"\n",
    "    Create zeros matrix of size mxn\n",
    "    \"\"\"\n",
    "    return [[0 for i in range(n)] for j in range(m)]\n",
    "\n",
    "def dim(A):\n",
    "    \"\"\"\n",
    "    Return the size of matrix A\n",
    "    \"\"\"\n",
    "    if isinstance(A, int) or isinstance(A, float):\n",
    "        return 1,1\n",
    "    # row vector\n",
    "    elif isinstance(A, list) and not isinstance(A[0], list):\n",
    "        return 1, len(A)\n",
    "    elif isinstance(A[0], list) and not isinstance(A, list):\n",
    "        return len(A), 1\n",
    "    else:\n",
    "        return len(A), len(A[0])\n",
    "    \n",
    "def row_mat(A,i):\n",
    "    \"\"\"\n",
    "    Return the row at index i\n",
    "    \"\"\"\n",
    "    return [A[i]]\n",
    "\n",
    "def column_mat(A,j):\n",
    "    \"\"\"\n",
    "    Return the column at index i\n",
    "    \"\"\"\n",
    "    return [[A[i][j]] for i in range(len(A))]\n",
    "\n",
    "def tr(A):\n",
    "    \"\"\"\n",
    "    Calculate the trace of matrix A\n",
    "    \"\"\"\n",
    "    if not dim(A)[0] == dim(A)[1]:\n",
    "        return f\"Not a square matrix {dim(A)}\"\n",
    "    return sum(A[i][i] for i in range(len(A)))"
   ]
  },
  {
   "cell_type": "code",
   "execution_count": 145,
   "metadata": {},
   "outputs": [
    {
     "name": "stdout",
     "output_type": "stream",
     "text": [
      "[[1], [2], [3]]\n",
      "[[1, 2, 3]]\n",
      "[[1, 4], [2, 5], [3, 6]]\n",
      "[[4, 5, 6]]\n",
      "[[2], [5]]\n",
      "Not a square matrix (2, 3)\n"
     ]
    }
   ],
   "source": [
    "a = [[1,2,3]]\n",
    "b = [[1],[2],[3]]\n",
    "C = [[1,2,3],[4,5,6]]\n",
    "print(transpose(a))\n",
    "print(transpose(b))\n",
    "print(transpose(C))\n",
    "print(row_mat(C,1))\n",
    "print(column_mat(C,1))\n",
    "print(tr(C))"
   ]
  },
  {
   "cell_type": "code",
   "execution_count": 138,
   "metadata": {},
   "outputs": [],
   "source": [
    "def transpose(A):\n",
    "    \"\"\"\n",
    "    Transpose matrix A\n",
    "    \"\"\"\n",
    "    n_C, m_C = dim(A)\n",
    "    C = zeros(m_C, n_C)\n",
    "    if is_scalar(A):\n",
    "        C = [A]\n",
    "    elif is_row(A):\n",
    "        for i in range(len(A[0])):\n",
    "            C[i][0] = A[0][i]\n",
    "    elif is_column(A):\n",
    "        for i in range(len(A)):\n",
    "            C[0][i] = A[i][0]\n",
    "    else:\n",
    "        for i in range (m_C):\n",
    "            for j in range (n_C):\n",
    "                C[i][j] = A[j][i]\n",
    "    return C\n",
    "\n",
    "def mat_add(A,B):\n",
    "    \"\"\"\n",
    "    Add entry-wise matrix B to A\n",
    "    \"\"\"\n",
    "    C = copy.deepcopy(A)\n",
    "    if not dim(A) == dim(B):\n",
    "        return \"Unequal size A and B\"\n",
    "    \n",
    "    for i in range(len(A)):\n",
    "        for j in range(len(A[0])):\n",
    "            C[i][j] += B[i][j]\n",
    "    return C\n",
    "\n",
    "def mat_sub(A,B):\n",
    "    \"\"\"\n",
    "    Subtract entry-wise matrix B from A\n",
    "    \"\"\"\n",
    "    C = copy.deepcopy(A)\n",
    "    if not dim(A) == dim(B):\n",
    "        return \"Unequal size A and B\"\n",
    "    \n",
    "    for i in range(len(A)):\n",
    "        for j in range(len(A[0])):\n",
    "            C[i][j] -= B[i][j]\n",
    "    return C\n",
    "\n",
    "def mat_scal_mul(A, alpha):\n",
    "    \"\"\"\n",
    "    Multiply entry-wise matrix A with scalar alpha\n",
    "    \"\"\"\n",
    "    C = copy.deepcopy(A)\n",
    "    for i in range(len(A)):\n",
    "        for j in range(len(A[0])):\n",
    "            C[i][j] *= alpha\n",
    "    return C\n",
    "\n",
    "def dot(a,b):\n",
    "    \"\"\"\n",
    "    Calculate dot product between vector a and b\n",
    "    \"\"\"\n",
    "    if not (is_vector(a) and is_vector(b)):\n",
    "        return f\"Invalid vector size {dim(a)} and {dim(b)}\"\n",
    "    if not is_row(a):\n",
    "        a = transpose(a)\n",
    "    if not is_column(b):\n",
    "        b = transpose(b)\n",
    "    if not dim(a)[1] == dim(b)[0]:\n",
    "        return f\"Invalid vector size {dim(a)} and {dim(b)}\"\n",
    "    return sum(a[0][i]*b[i][0] for i in range(len(a[0]))) \n",
    "\n",
    "def mat_mat_mul(A,B):\n",
    "    \"\"\"\n",
    "    Implement matrix-matrix multiplication\n",
    "    \"\"\"\n",
    "    if not dim(A)[1] == dim(B)[0]:\n",
    "        return f\"Invalid matrix size {dim(A)} and {dim(B)}\"\n",
    "    \n",
    "    C = zeros(dim(A)[0], dim(B)[1])\n",
    "    for i in range(len(A)):\n",
    "        for j in range(len(B[0])):\n",
    "            C[i][j] = dot(row_mat(A,i), column_mat(B,j))\n",
    "    return C\n",
    "\n",
    "def inverse(A):\n",
    "    \"\"\"\n",
    "    Find the inverse of matrix A\n",
    "    \"\"\""
   ]
  },
  {
   "cell_type": "code",
   "execution_count": 139,
   "metadata": {},
   "outputs": [
    {
     "name": "stdout",
     "output_type": "stream",
     "text": [
      "[[2, 4], [6, 8]]\n",
      "[[0, 0], [0, 0]]\n",
      "[[3, 6], [9, 12]]\n"
     ]
    }
   ],
   "source": [
    "A = [\n",
    "    [1,2],\n",
    "    [3,4]\n",
    "    ]\n",
    "\n",
    "B = [\n",
    "    [1,2],\n",
    "    [3,4]\n",
    "    ]\n",
    "\n",
    "print(mat_add(A,B))\n",
    "print(mat_sub(A,B))\n",
    "print(mat_scal_mul(A,3))"
   ]
  },
  {
   "cell_type": "code",
   "execution_count": 140,
   "metadata": {},
   "outputs": [
    {
     "data": {
      "text/plain": [
       "'Invalid vector size (1, 4) and (3, 1)'"
      ]
     },
     "execution_count": 140,
     "metadata": {},
     "output_type": "execute_result"
    }
   ],
   "source": [
    "a = [[1,2,3,4]]\n",
    "b = [[1],[2],[3]]\n",
    "dot(a,b)"
   ]
  },
  {
   "cell_type": "code",
   "execution_count": 142,
   "metadata": {},
   "outputs": [
    {
     "data": {
      "text/plain": [
       "[[-1], [11]]"
      ]
     },
     "execution_count": 142,
     "metadata": {},
     "output_type": "execute_result"
    }
   ],
   "source": [
    "A = [[-1,0],[2,3]]\n",
    "B = [[1],[3]]\n",
    "mat_mat_mul(A,B)"
   ]
  },
  {
   "cell_type": "code",
   "execution_count": null,
   "metadata": {},
   "outputs": [],
   "source": []
  }
 ],
 "metadata": {
  "kernelspec": {
   "display_name": "Python 3",
   "language": "python",
   "name": "python3"
  },
  "language_info": {
   "codemirror_mode": {
    "name": "ipython",
    "version": 3
   },
   "file_extension": ".py",
   "mimetype": "text/x-python",
   "name": "python",
   "nbconvert_exporter": "python",
   "pygments_lexer": "ipython3",
   "version": "3.8.5"
  }
 },
 "nbformat": 4,
 "nbformat_minor": 4
}
