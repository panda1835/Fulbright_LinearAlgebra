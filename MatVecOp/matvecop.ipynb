{
 "cells": [
  {
   "cell_type": "code",
   "execution_count": null,
   "metadata": {},
   "outputs": [],
   "source": []
  },
  {
   "cell_type": "code",
   "execution_count": 12,
   "metadata": {},
   "outputs": [],
   "source": [
    "import copy\n",
    "import numpy as np"
   ]
  },
  {
   "cell_type": "code",
   "execution_count": 28,
   "metadata": {},
   "outputs": [],
   "source": [
    "def dim(A):\n",
    "    \"\"\"\n",
    "    Return the size of matrix A\n",
    "    \"\"\"\n",
    "    if isinstance(A, int) or isinstance(A, float):\n",
    "        return 1,1\n",
    "    # row vector\n",
    "    elif isinstance(A, list) and not isinstance(A[0], list):\n",
    "        return 1, len(A)\n",
    "    elif isinstance(A[0], list) and not isinstance(A, list):\n",
    "        return len(A), 1\n",
    "    else:\n",
    "        return len(A), len(A[0])\n",
    "    \n",
    "def is_column(a):\n",
    "    \"\"\"\n",
    "    Check if vector a is a column vector\n",
    "    \"\"\"\n",
    "    m, n = dim(A)\n",
    "    return m > 1 and n == 1\n",
    "\n",
    "def is_row(a):\n",
    "    \"\"\"\n",
    "    Check if vector a is a row vector\n",
    "    \"\"\"\n",
    "    m, n = dim(A)\n",
    "    return m == 1 and n > 1\n",
    "\n",
    "def is_scalar(a):\n",
    "    \"\"\"\n",
    "    Check if a is a scalar\n",
    "    \"\"\"\n",
    "    m, n = dim(A)\n",
    "    return m == 1 and n == 1"
   ]
  },
  {
   "cell_type": "code",
   "execution_count": 8,
   "metadata": {},
   "outputs": [],
   "source": [
    "def transpose(A):\n",
    "    \"\"\"\n",
    "    Transpose matrix A\n",
    "    \"\"\"\n",
    "    return ...\n",
    "\n",
    "def vect_add(a,b):\n",
    "    \"\"\"\n",
    "    Add vector a and b\n",
    "    \"\"\"\n",
    "    c = copy.deepcopy(a)\n",
    "    \n",
    "    for i in range a:\n",
    "        c[i] += b[i]\n",
    "    return c\n",
    "\n",
    "def vect_sub(a,b):\n",
    "    \"\"\"\n",
    "    Subtract vector b from a\n",
    "    \"\"\"\n",
    "    c = copy.deepcopy(a)\n",
    "    for i in range a:\n",
    "        c[i] -= b[i]\n",
    "    return c\n",
    "\n",
    "def mat_add(A,B):\n",
    "    \"\"\"\n",
    "    Add entry-wise matrix B to A\n",
    "    \"\"\"\n",
    "    C = copy.deepcopy(A)\n",
    "    for i in range(len(A)):\n",
    "        vect_add(C[i], B[i])\n",
    "    return C\n",
    "\n",
    "def mat_sub(A,B):\n",
    "    \"\"\"\n",
    "    Subtract entry-wise matrix B from A\n",
    "    \"\"\"\n",
    "    C = copy.deepcopy(A)\n",
    "    for i in range(len(A)):\n",
    "        vect_sub(C[i], B[i])\n",
    "    return C\n",
    "\n",
    "def mat_scal_mul(A, alpha):\n",
    "    \"\"\"\n",
    "    Multiply entry-wise matrix A with scalar alpha\n",
    "    \"\"\"\n",
    "    "
   ]
  },
  {
   "cell_type": "code",
   "execution_count": 10,
   "metadata": {},
   "outputs": [
    {
     "name": "stdout",
     "output_type": "stream",
     "text": [
      "[[2, 4], [6, 8]]\n",
      "[[0, 0], [0, 0]]\n"
     ]
    }
   ],
   "source": [
    "A = [\n",
    "    [1,2],\n",
    "    [3,4]\n",
    "    ]\n",
    "\n",
    "B = [\n",
    "    [1,2],\n",
    "    [3,4]\n",
    "    ]\n",
    "\n",
    "print(matrix_addition(A,B))\n",
    "print(matrix_subtraction(A,B))"
   ]
  },
  {
   "cell_type": "code",
   "execution_count": null,
   "metadata": {},
   "outputs": [],
   "source": []
  }
 ],
 "metadata": {
  "kernelspec": {
   "display_name": "Python 3",
   "language": "python",
   "name": "python3"
  },
  "language_info": {
   "codemirror_mode": {
    "name": "ipython",
    "version": 3
   },
   "file_extension": ".py",
   "mimetype": "text/x-python",
   "name": "python",
   "nbconvert_exporter": "python",
   "pygments_lexer": "ipython3",
   "version": "3.7.6"
  }
 },
 "nbformat": 4,
 "nbformat_minor": 4
}
